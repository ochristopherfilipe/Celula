{
 "cells": [
  {
   "cell_type": "code",
   "execution_count": 24,
   "metadata": {},
   "outputs": [
    {
     "name": "stdout",
     "output_type": "stream",
     "text": [
      "Quebra-gelo: Gabriel\n",
      "Louvores: João\n",
      "Edificação: Karime\n",
      "Cadeira da benção: Christopher\n",
      "Compartilhando a Visão: Bianca\n",
      "Lanche: Ket\n"
     ]
    }
   ],
   "source": [
    "import random\n",
    "\n",
    "tarefas = [\"Quebra-gelo\", \"Louvores\", \"Edificação\", \"Cadeira da benção\", \"Compartilhando a Visão\", \"Lanche\"]\n",
    "\n",
    "#lideres_edificacao = input(\"Digite os nomes dos líderes e auxiliares, separados por vírgula: \").split(\",\") # lista de líderes ou auxiliares de célula que podem ser designados para a tarefa de edificação\n",
    "lideres_edificacao = [\"Marcus\", \"Karime\", \"Maria\", \"Anny\"]\n",
    "\n",
    "#pessoas = input(\"Digite os nomes dos membros, separados por vírgula: \").split(\",\")\n",
    "pessoas = [\"Christopher\", \"Daniel\", \"Apenas\", \"Ket\", \"Bianca\", \"Gabriel\", \"João\"]\n",
    "\n",
    "# remova quaisquer espaços em branco antes ou depois de cada nome\n",
    "pessoas = [p.strip() for p in pessoas]\n",
    "lideres_edificacao = [l.strip() for l in lideres_edificacao]\n",
    "\n",
    "# crie um dicionário para armazenar quais tarefas cada pessoa foi designada\n",
    "designacoes = {}\n",
    "\n",
    "# para cada tarefa, escolha aleatoriamente uma pessoa (exceto para a tarefa de edificação)\n",
    "for tarefa in tarefas:\n",
    "    if tarefa == \"Edificação\":\n",
    "        # escolha aleatoriamente um líder ou auxiliar de célula para a tarefa de edificação\n",
    "        designacoes[tarefa] = random.choice(lideres_edificacao)\n",
    "    else:\n",
    "        # escolha aleatoriamente uma pessoa para a tarefa (garantindo que a pessoa ainda não foi designada para outra tarefa)\n",
    "        pessoa_disponivel = False\n",
    "        while not pessoa_disponivel:\n",
    "            pessoa = random.choice(pessoas)\n",
    "            if pessoa not in designacoes.values():\n",
    "                designacoes[tarefa] = pessoa\n",
    "                pessoa_disponivel = True\n",
    "\n",
    "# imprima as designações de cada tarefa\n",
    "for tarefa, pessoa in designacoes.items():\n",
    "    print(f\"{tarefa}: {pessoa}\")\n"
   ]
  }
 ],
 "metadata": {
  "kernelspec": {
   "display_name": "venv",
   "language": "python",
   "name": "python3"
  },
  "language_info": {
   "codemirror_mode": {
    "name": "ipython",
    "version": 3
   },
   "file_extension": ".py",
   "mimetype": "text/x-python",
   "name": "python",
   "nbconvert_exporter": "python",
   "pygments_lexer": "ipython3",
   "version": "3.10.9"
  },
  "orig_nbformat": 4
 },
 "nbformat": 4,
 "nbformat_minor": 2
}
